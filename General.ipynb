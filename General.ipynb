{
 "cells": [
  {
   "cell_type": "code",
   "execution_count": 14,
   "metadata": {},
   "outputs": [
    {
     "name": "stdout",
     "output_type": "stream",
     "text": [
      "abjanjb\n",
      "ABJANJB\n",
      "aBJanjB\n",
      "aBJanjB\n",
      "same it is\n"
     ]
    }
   ],
   "source": [
    "s=\"aBJanjB\"\n",
    "k=\"aBJanjB\"\n",
    "print(s.lower())\n",
    "print(s.upper())\n",
    "print(s)\n",
    "print(k)\n",
    "if(list(k)==list(s)):\n",
    "    print(\"same it is\")"
   ]
  },
  {
   "cell_type": "code",
   "execution_count": 17,
   "metadata": {},
   "outputs": [
    {
     "name": "stdout",
     "output_type": "stream",
     "text": [
      "5 bete\n",
      "2 bete\n"
     ]
    }
   ],
   "source": [
    "def finc1(a):\n",
    "    print(\"{} bete\".format(a))\n",
    "    \n",
    "finc1(5)\n",
    "finc1(2)"
   ]
  },
  {
   "cell_type": "code",
   "execution_count": 28,
   "metadata": {},
   "outputs": [
    {
     "name": "stdout",
     "output_type": "stream",
     "text": [
      "6\n"
     ]
    }
   ],
   "source": [
    "double=lambda x,y: x*y\n",
    "\n",
    "print(double(2,3))"
   ]
  },
  {
   "cell_type": "code",
   "execution_count": 27,
   "metadata": {},
   "outputs": [
    {
     "name": "stdout",
     "output_type": "stream",
     "text": [
      "120\n"
     ]
    }
   ],
   "source": [
    "import functools \n",
    "list1=[1,2,3,4,5]\n",
    "print(functools.reduce(double,list1))"
   ]
  },
  {
   "cell_type": "code",
   "execution_count": null,
   "metadata": {},
   "outputs": [],
   "source": []
  },
  {
   "cell_type": "code",
   "execution_count": null,
   "metadata": {},
   "outputs": [],
   "source": []
  }
 ],
 "metadata": {
  "kernelspec": {
   "display_name": "Python 3",
   "language": "python",
   "name": "python3"
  },
  "language_info": {
   "codemirror_mode": {
    "name": "ipython",
    "version": 3
   },
   "file_extension": ".py",
   "mimetype": "text/x-python",
   "name": "python",
   "nbconvert_exporter": "python",
   "pygments_lexer": "ipython3",
   "version": "3.8.5"
  }
 },
 "nbformat": 4,
 "nbformat_minor": 4
}
